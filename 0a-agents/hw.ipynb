{
 "cells": [
  {
   "cell_type": "code",
   "execution_count": 1,
   "id": "3008cea6-ab10-4275-80af-ab2e23d1027d",
   "metadata": {},
   "outputs": [],
   "source": [
    "import random\n",
    "\n",
    "known_weather_data = {\n",
    "    'berlin': 20.0\n",
    "}\n",
    "\n",
    "def get_weather(city: str) -> float:\n",
    "    city = city.strip().lower()\n",
    "\n",
    "    if city in known_weather_data:\n",
    "        return known_weather_data[city]\n",
    "\n",
    "    return round(random.uniform(-5, 35), 1)"
   ]
  },
  {
   "cell_type": "code",
   "execution_count": 5,
   "id": "b50eae43-0087-4f3b-8f11-724b897b0264",
   "metadata": {},
   "outputs": [],
   "source": [
    "get_weather_tool = {\n",
    "    \"type\": \"function\",\n",
    "    \"name\": \"get_weather\",\n",
    "    \"description\": \"get the weather for certain city \",\n",
    "    \"parameters\": {\n",
    "        \"type\": \"object\",\n",
    "        \"properties\": {\n",
    "            \"city\": {\n",
    "                \"type\": \"string\",\n",
    "                \"description\": \"the city we need to know its weather\"\n",
    "            }\n",
    "        },\n",
    "        \"required\": [\"city\"],\n",
    "        \"additionalProperties\": False\n",
    "    }\n",
    "}"
   ]
  },
  {
   "cell_type": "code",
   "execution_count": 6,
   "id": "17098fb7-cadc-4442-b045-ec1beee29368",
   "metadata": {},
   "outputs": [],
   "source": [
    "def set_weather(city: str, temp: float) -> None:\n",
    "    city = city.strip().lower()\n",
    "    known_weather_data[city] = temp\n",
    "    return 'OK'"
   ]
  },
  {
   "cell_type": "code",
   "execution_count": 7,
   "id": "c114c33e-8c2c-47eb-bb04-e7f36e6ed861",
   "metadata": {},
   "outputs": [],
   "source": [
    "add_weather_entry_tool = {\n",
    "    \"type\": \"function\",\n",
    "    \"name\": \"add_weather_entry\",\n",
    "    \"description\": \"add new entry to weather DB\",\n",
    "    \"parameters\": {\n",
    "        \"type\": \"object\",\n",
    "        \"properties\": {\n",
    "            \"city\": {\n",
    "                \"type\": \"string\",\n",
    "                \"description\": \"the city we need to add to DB\"\n",
    "            },\n",
    "            \"degree\": {\n",
    "                \"type\": \"floar\",\n",
    "                \"description\": \"the weather degree\"\n",
    "            }\n",
    "        },\n",
    "        \"required\": [\"city\",\"degree\"],\n",
    "        \"additionalProperties\": False\n",
    "    }\n",
    "}"
   ]
  },
  {
   "cell_type": "code",
   "execution_count": 8,
   "id": "1eb786c4-fa09-48fc-9b0f-2e5252f86a50",
   "metadata": {},
   "outputs": [
    {
     "name": "stdout",
     "output_type": "stream",
     "text": [
      "Collecting fastmcp\n",
      "  Downloading fastmcp-2.10.5-py3-none-any.whl.metadata (17 kB)\n",
      "Collecting authlib>=1.5.2 (from fastmcp)\n",
      "  Downloading authlib-1.6.0-py2.py3-none-any.whl.metadata (4.1 kB)\n",
      "Collecting cyclopts>=3.0.0 (from fastmcp)\n",
      "  Downloading cyclopts-3.22.2-py3-none-any.whl.metadata (11 kB)\n",
      "Collecting exceptiongroup>=1.2.2 (from fastmcp)\n",
      "  Downloading exceptiongroup-1.3.0-py3-none-any.whl.metadata (6.7 kB)\n",
      "Requirement already satisfied: httpx>=0.28.1 in /home/codespace/.local/lib/python3.12/site-packages (from fastmcp) (0.28.1)\n",
      "Collecting mcp>=1.10.0 (from fastmcp)\n",
      "  Downloading mcp-1.11.0-py3-none-any.whl.metadata (44 kB)\n",
      "Collecting openapi-pydantic>=0.5.1 (from fastmcp)\n",
      "  Downloading openapi_pydantic-0.5.1-py3-none-any.whl.metadata (10 kB)\n",
      "Collecting pydantic>=2.11.7 (from pydantic[email]>=2.11.7->fastmcp)\n",
      "  Downloading pydantic-2.11.7-py3-none-any.whl.metadata (67 kB)\n",
      "Collecting pyperclip>=1.9.0 (from fastmcp)\n",
      "  Downloading pyperclip-1.9.0.tar.gz (20 kB)\n",
      "  Installing build dependencies ... \u001b[?25ldone\n",
      "\u001b[?25h  Getting requirements to build wheel ... \u001b[?25ldone\n",
      "\u001b[?25h  Preparing metadata (pyproject.toml) ... \u001b[?25ldone\n",
      "\u001b[?25hCollecting python-dotenv>=1.1.0 (from fastmcp)\n",
      "  Downloading python_dotenv-1.1.1-py3-none-any.whl.metadata (24 kB)\n",
      "Requirement already satisfied: rich>=13.9.4 in /usr/local/python/3.12.1/lib/python3.12/site-packages (from fastmcp) (14.0.0)\n",
      "Collecting cryptography (from authlib>=1.5.2->fastmcp)\n",
      "  Downloading cryptography-45.0.5-cp311-abi3-manylinux_2_28_x86_64.whl.metadata (5.7 kB)\n",
      "Requirement already satisfied: attrs>=23.1.0 in /home/codespace/.local/lib/python3.12/site-packages (from cyclopts>=3.0.0->fastmcp) (25.3.0)\n",
      "Collecting docstring-parser>=0.15 (from cyclopts>=3.0.0->fastmcp)\n",
      "  Downloading docstring_parser-0.16-py3-none-any.whl.metadata (3.0 kB)\n",
      "Collecting rich-rst<2.0.0,>=1.3.1 (from cyclopts>=3.0.0->fastmcp)\n",
      "  Downloading rich_rst-1.3.1-py3-none-any.whl.metadata (6.0 kB)\n",
      "Requirement already satisfied: typing-extensions>=4.6.0 in /home/codespace/.local/lib/python3.12/site-packages (from exceptiongroup>=1.2.2->fastmcp) (4.12.2)\n",
      "Requirement already satisfied: anyio in /home/codespace/.local/lib/python3.12/site-packages (from httpx>=0.28.1->fastmcp) (4.9.0)\n",
      "Requirement already satisfied: certifi in /home/codespace/.local/lib/python3.12/site-packages (from httpx>=0.28.1->fastmcp) (2025.1.31)\n",
      "Requirement already satisfied: httpcore==1.* in /home/codespace/.local/lib/python3.12/site-packages (from httpx>=0.28.1->fastmcp) (1.0.7)\n",
      "Requirement already satisfied: idna in /home/codespace/.local/lib/python3.12/site-packages (from httpx>=0.28.1->fastmcp) (3.10)\n",
      "Requirement already satisfied: h11<0.15,>=0.13 in /home/codespace/.local/lib/python3.12/site-packages (from httpcore==1.*->httpx>=0.28.1->fastmcp) (0.14.0)\n",
      "Collecting httpx-sse>=0.4 (from mcp>=1.10.0->fastmcp)\n",
      "  Downloading httpx_sse-0.4.1-py3-none-any.whl.metadata (9.4 kB)\n",
      "Requirement already satisfied: jsonschema>=4.20.0 in /home/codespace/.local/lib/python3.12/site-packages (from mcp>=1.10.0->fastmcp) (4.23.0)\n",
      "Collecting pydantic-settings>=2.5.2 (from mcp>=1.10.0->fastmcp)\n",
      "  Downloading pydantic_settings-2.10.1-py3-none-any.whl.metadata (3.4 kB)\n",
      "Collecting python-multipart>=0.0.9 (from mcp>=1.10.0->fastmcp)\n",
      "  Downloading python_multipart-0.0.20-py3-none-any.whl.metadata (1.8 kB)\n",
      "Collecting sse-starlette>=1.6.1 (from mcp>=1.10.0->fastmcp)\n",
      "  Downloading sse_starlette-2.4.1-py3-none-any.whl.metadata (10 kB)\n",
      "Collecting starlette>=0.27 (from mcp>=1.10.0->fastmcp)\n",
      "  Downloading starlette-0.47.1-py3-none-any.whl.metadata (6.2 kB)\n",
      "Collecting uvicorn>=0.23.1 (from mcp>=1.10.0->fastmcp)\n",
      "  Downloading uvicorn-0.35.0-py3-none-any.whl.metadata (6.5 kB)\n",
      "Requirement already satisfied: annotated-types>=0.6.0 in /usr/local/python/3.12.1/lib/python3.12/site-packages (from pydantic>=2.11.7->pydantic[email]>=2.11.7->fastmcp) (0.7.0)\n",
      "Requirement already satisfied: pydantic-core==2.33.2 in /usr/local/python/3.12.1/lib/python3.12/site-packages (from pydantic>=2.11.7->pydantic[email]>=2.11.7->fastmcp) (2.33.2)\n",
      "Requirement already satisfied: typing-inspection>=0.4.0 in /usr/local/python/3.12.1/lib/python3.12/site-packages (from pydantic>=2.11.7->pydantic[email]>=2.11.7->fastmcp) (0.4.1)\n",
      "Collecting email-validator>=2.0.0 (from pydantic[email]>=2.11.7->fastmcp)\n",
      "  Downloading email_validator-2.2.0-py3-none-any.whl.metadata (25 kB)\n",
      "Requirement already satisfied: markdown-it-py>=2.2.0 in /usr/local/python/3.12.1/lib/python3.12/site-packages (from rich>=13.9.4->fastmcp) (3.0.0)\n",
      "Requirement already satisfied: pygments<3.0.0,>=2.13.0 in /home/codespace/.local/lib/python3.12/site-packages (from rich>=13.9.4->fastmcp) (2.19.1)\n",
      "Requirement already satisfied: sniffio>=1.1 in /home/codespace/.local/lib/python3.12/site-packages (from anyio->httpx>=0.28.1->fastmcp) (1.3.1)\n",
      "Collecting dnspython>=2.0.0 (from email-validator>=2.0.0->pydantic[email]>=2.11.7->fastmcp)\n",
      "  Downloading dnspython-2.7.0-py3-none-any.whl.metadata (5.8 kB)\n",
      "Requirement already satisfied: jsonschema-specifications>=2023.03.6 in /home/codespace/.local/lib/python3.12/site-packages (from jsonschema>=4.20.0->mcp>=1.10.0->fastmcp) (2024.10.1)\n",
      "Requirement already satisfied: referencing>=0.28.4 in /home/codespace/.local/lib/python3.12/site-packages (from jsonschema>=4.20.0->mcp>=1.10.0->fastmcp) (0.36.2)\n",
      "Requirement already satisfied: rpds-py>=0.7.1 in /home/codespace/.local/lib/python3.12/site-packages (from jsonschema>=4.20.0->mcp>=1.10.0->fastmcp) (0.23.1)\n",
      "Requirement already satisfied: mdurl~=0.1 in /usr/local/python/3.12.1/lib/python3.12/site-packages (from markdown-it-py>=2.2.0->rich>=13.9.4->fastmcp) (0.1.2)\n",
      "Collecting docutils (from rich-rst<2.0.0,>=1.3.1->cyclopts>=3.0.0->fastmcp)\n",
      "  Downloading docutils-0.21.2-py3-none-any.whl.metadata (2.8 kB)\n",
      "Requirement already satisfied: click>=7.0 in /usr/local/python/3.12.1/lib/python3.12/site-packages (from uvicorn>=0.23.1->mcp>=1.10.0->fastmcp) (8.2.1)\n",
      "Requirement already satisfied: cffi>=1.14 in /home/codespace/.local/lib/python3.12/site-packages (from cryptography->authlib>=1.5.2->fastmcp) (1.17.1)\n",
      "Requirement already satisfied: pycparser in /home/codespace/.local/lib/python3.12/site-packages (from cffi>=1.14->cryptography->authlib>=1.5.2->fastmcp) (2.22)\n",
      "Downloading fastmcp-2.10.5-py3-none-any.whl (201 kB)\n",
      "Downloading authlib-1.6.0-py2.py3-none-any.whl (239 kB)\n",
      "Downloading cyclopts-3.22.2-py3-none-any.whl (84 kB)\n",
      "Downloading exceptiongroup-1.3.0-py3-none-any.whl (16 kB)\n",
      "Downloading mcp-1.11.0-py3-none-any.whl (155 kB)\n",
      "Downloading openapi_pydantic-0.5.1-py3-none-any.whl (96 kB)\n",
      "Downloading pydantic-2.11.7-py3-none-any.whl (444 kB)\n",
      "Downloading python_dotenv-1.1.1-py3-none-any.whl (20 kB)\n",
      "Downloading docstring_parser-0.16-py3-none-any.whl (36 kB)\n",
      "Downloading email_validator-2.2.0-py3-none-any.whl (33 kB)\n",
      "Downloading httpx_sse-0.4.1-py3-none-any.whl (8.1 kB)\n",
      "Downloading pydantic_settings-2.10.1-py3-none-any.whl (45 kB)\n",
      "Downloading python_multipart-0.0.20-py3-none-any.whl (24 kB)\n",
      "Downloading rich_rst-1.3.1-py3-none-any.whl (11 kB)\n",
      "Downloading sse_starlette-2.4.1-py3-none-any.whl (10 kB)\n",
      "Downloading starlette-0.47.1-py3-none-any.whl (72 kB)\n",
      "Downloading uvicorn-0.35.0-py3-none-any.whl (66 kB)\n",
      "Downloading cryptography-45.0.5-cp311-abi3-manylinux_2_28_x86_64.whl (4.5 MB)\n",
      "\u001b[2K   \u001b[38;2;114;156;31m━━━━━━━━━━━━━━━━━━━━━━━━━━━━━━━━━━━━━━━━\u001b[0m \u001b[32m4.5/4.5 MB\u001b[0m \u001b[31m61.7 MB/s\u001b[0m eta \u001b[36m0:00:00\u001b[0m\n",
      "\u001b[?25hDownloading dnspython-2.7.0-py3-none-any.whl (313 kB)\n",
      "Downloading docutils-0.21.2-py3-none-any.whl (587 kB)\n",
      "\u001b[2K   \u001b[38;2;114;156;31m━━━━━━━━━━━━━━━━━━━━━━━━━━━━━━━━━━━━━━━━\u001b[0m \u001b[32m587.4/587.4 kB\u001b[0m \u001b[31m35.4 MB/s\u001b[0m eta \u001b[36m0:00:00\u001b[0m\n",
      "\u001b[?25hBuilding wheels for collected packages: pyperclip\n",
      "  Building wheel for pyperclip (pyproject.toml) ... \u001b[?25ldone\n",
      "\u001b[?25h  Created wheel for pyperclip: filename=pyperclip-1.9.0-py3-none-any.whl size=11103 sha256=d983a9ab3df42de45fd256f8e2389d802433d3ff0c6699dba3f38844629a1582\n",
      "  Stored in directory: /home/codespace/.cache/pip/wheels/e0/e8/fc/8ab8aa326e33bc066ccd5f3ca9646eab4299881af933f94f09\n",
      "Successfully built pyperclip\n",
      "Installing collected packages: pyperclip, uvicorn, python-multipart, python-dotenv, httpx-sse, exceptiongroup, docutils, docstring-parser, dnspython, starlette, sse-starlette, pydantic, email-validator, cryptography, rich-rst, pydantic-settings, openapi-pydantic, authlib, mcp, cyclopts, fastmcp\n",
      "  Attempting uninstall: pydantic\n",
      "    Found existing installation: pydantic 2.11.5\n",
      "    Uninstalling pydantic-2.11.5:\n",
      "      Successfully uninstalled pydantic-2.11.5\n",
      "Successfully installed authlib-1.6.0 cryptography-45.0.5 cyclopts-3.22.2 dnspython-2.7.0 docstring-parser-0.16 docutils-0.21.2 email-validator-2.2.0 exceptiongroup-1.3.0 fastmcp-2.10.5 httpx-sse-0.4.1 mcp-1.11.0 openapi-pydantic-0.5.1 pydantic-2.11.7 pydantic-settings-2.10.1 pyperclip-1.9.0 python-dotenv-1.1.1 python-multipart-0.0.20 rich-rst-1.3.1 sse-starlette-2.4.1 starlette-0.47.1 uvicorn-0.35.0\n",
      "\n",
      "\u001b[1m[\u001b[0m\u001b[34;49mnotice\u001b[0m\u001b[1;39;49m]\u001b[0m\u001b[39;49m A new release of pip is available: \u001b[0m\u001b[31;49m25.0.1\u001b[0m\u001b[39;49m -> \u001b[0m\u001b[32;49m25.1.1\u001b[0m\n",
      "\u001b[1m[\u001b[0m\u001b[34;49mnotice\u001b[0m\u001b[1;39;49m]\u001b[0m\u001b[39;49m To update, run: \u001b[0m\u001b[32;49mpython3 -m pip install --upgrade pip\u001b[0m\n",
      "Note: you may need to restart the kernel to use updated packages.\n"
     ]
    }
   ],
   "source": [
    "pip install fastmcp"
   ]
  },
  {
   "cell_type": "code",
   "execution_count": 9,
   "id": "135c8e27-18f6-4285-a672-e0e04a204e24",
   "metadata": {},
   "outputs": [
    {
     "name": "stdout",
     "output_type": "stream",
     "text": [
      "Name: fastmcp\n",
      "Version: 2.10.5\n",
      "Summary: The fast, Pythonic way to build MCP servers and clients.\n",
      "Home-page: https://gofastmcp.com\n",
      "Author: Jeremiah Lowin\n",
      "Author-email: \n",
      "License-Expression: Apache-2.0\n",
      "Location: /usr/local/python/3.12.1/lib/python3.12/site-packages\n",
      "Requires: authlib, cyclopts, exceptiongroup, httpx, mcp, openapi-pydantic, pydantic, pyperclip, python-dotenv, rich\n",
      "Required-by: \n",
      "Note: you may need to restart the kernel to use updated packages.\n"
     ]
    }
   ],
   "source": [
    "pip show fastmcp"
   ]
  },
  {
   "cell_type": "code",
   "execution_count": 13,
   "id": "d7dc73d9-be80-46c3-a10b-d11c42d9d04f",
   "metadata": {},
   "outputs": [
    {
     "name": "stderr",
     "output_type": "stream",
     "text": [
      "/usr/local/python/3.12.1/lib/python3.12/pty.py:95: DeprecationWarning: This process (pid=2128) is multi-threaded, use of forkpty() may lead to deadlocks in the child.\n",
      "  pid, fd = os.forkpty()\n"
     ]
    },
    {
     "name": "stdout",
     "output_type": "stream",
     "text": [
      "Requirement already satisfied: nest_asyncio in /home/codespace/.local/lib/python3.12/site-packages (1.6.0)\n",
      "\n",
      "\u001b[1m[\u001b[0m\u001b[34;49mnotice\u001b[0m\u001b[1;39;49m]\u001b[0m\u001b[39;49m A new release of pip is available: \u001b[0m\u001b[31;49m25.0.1\u001b[0m\u001b[39;49m -> \u001b[0m\u001b[32;49m25.1.1\u001b[0m\n",
      "\u001b[1m[\u001b[0m\u001b[34;49mnotice\u001b[0m\u001b[1;39;49m]\u001b[0m\u001b[39;49m To update, run: \u001b[0m\u001b[32;49mpython3 -m pip install --upgrade pip\u001b[0m\n",
      "Note: you may need to restart the kernel to use updated packages.\n"
     ]
    }
   ],
   "source": [
    "pip install nest_asyncio"
   ]
  },
  {
   "cell_type": "code",
   "execution_count": 9,
   "id": "89eec955-2d96-4a48-962e-c6797cbb433b",
   "metadata": {},
   "outputs": [],
   "source": [
    "import weather_server"
   ]
  },
  {
   "cell_type": "code",
   "execution_count": 17,
   "id": "1913477a-3d45-4673-91e9-b0ccc86aba04",
   "metadata": {},
   "outputs": [
    {
     "name": "stdout",
     "output_type": "stream",
     "text": [
      "[Tool(name='get_weather', title=None, description='Retrieves the temperature for a specified city.\\n\\nParameters:\\n    city (str): The name of the city for which to retrieve weather data.\\n\\nReturns:\\n    float: The temperature associated with the city.', inputSchema={'properties': {'city': {'title': 'City', 'type': 'string'}}, 'required': ['city'], 'type': 'object'}, outputSchema={'properties': {'result': {'title': 'Result', 'type': 'number'}}, 'required': ['result'], 'title': '_WrappedResult', 'type': 'object', 'x-fastmcp-wrap-result': True}, annotations=None, meta=None), Tool(name='set_weather', title=None, description=\"Sets the temperature for a specified city.\\n\\nParameters:\\n    city (str): The name of the city for which to set the weather data.\\n    temp (float): The temperature to associate with the city.\\n\\nReturns:\\n    str: A confirmation string 'OK' indicating successful update.\", inputSchema={'properties': {'city': {'title': 'City', 'type': 'string'}, 'temp': {'title': 'Temp', 'type': 'number'}}, 'required': ['city', 'temp'], 'type': 'object'}, outputSchema=None, annotations=None, meta=None)]\n",
      "Available tools:\n",
      "- get_weather: Retrieves the temperature for a specified city.\n",
      "\n",
      "Parameters:\n",
      "    city (str): The name of the city for which to retrieve weather data.\n",
      "\n",
      "Returns:\n",
      "    float: The temperature associated with the city.\n",
      "- set_weather: Sets the temperature for a specified city.\n",
      "\n",
      "Parameters:\n",
      "    city (str): The name of the city for which to set the weather data.\n",
      "    temp (float): The temperature to associate with the city.\n",
      "\n",
      "Returns:\n",
      "    str: A confirmation string 'OK' indicating successful update.\n"
     ]
    }
   ],
   "source": [
    "from fastmcp import Client\n",
    "\n",
    "async def list_tools():\n",
    "    async with Client(weather_server.mcp) as mcp_client:\n",
    "        tools = await mcp_client.list_tools()\n",
    "        print(tools)\n",
    "        print(\"Available tools:\")\n",
    "        for tool in tools:\n",
    "            print(f\"- {tool.name}: {tool.description}\")\n",
    "\n",
    "# Run the async function using 'await' in Jupyter\n",
    "await list_tools()\n"
   ]
  },
  {
   "cell_type": "code",
   "execution_count": null,
   "id": "ce323f3b-bfe6-453c-b86c-9deb1c41cbd8",
   "metadata": {},
   "outputs": [],
   "source": []
  }
 ],
 "metadata": {
  "kernelspec": {
   "display_name": "Python 3 (ipykernel)",
   "language": "python",
   "name": "python3"
  },
  "language_info": {
   "codemirror_mode": {
    "name": "ipython",
    "version": 3
   },
   "file_extension": ".py",
   "mimetype": "text/x-python",
   "name": "python",
   "nbconvert_exporter": "python",
   "pygments_lexer": "ipython3",
   "version": "3.12.1"
  }
 },
 "nbformat": 4,
 "nbformat_minor": 5
}
