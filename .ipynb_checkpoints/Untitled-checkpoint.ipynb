{
 "cells": [
  {
   "cell_type": "code",
   "execution_count": 1,
   "id": "a2d21eba-9f8b-40d2-b6eb-15a172679c6c",
   "metadata": {},
   "outputs": [],
   "source": [
    " import openai"
   ]
  },
  {
   "cell_type": "code",
   "execution_count": 3,
   "id": "ec3872e0-038b-4278-b744-49ec8c9a38a5",
   "metadata": {},
   "outputs": [],
   "source": [
    "from openai import OpenAI"
   ]
  },
  {
   "cell_type": "code",
   "execution_count": 10,
   "id": "b3db66db-27ba-4351-a960-7bdd24f8834d",
   "metadata": {},
   "outputs": [],
   "source": [
    "client = OpenAI(api_key=\"\")"
   ]
  },
  {
   "cell_type": "code",
   "execution_count": 5,
   "id": "565db4ad-330d-4144-afb3-497f345769aa",
   "metadata": {},
   "outputs": [],
   "source": [
    "import os "
   ]
  },
  {
   "cell_type": "code",
   "execution_count": null,
   "id": "f6ca62c6-d395-4691-a1b5-f1acc18fc87e",
   "metadata": {},
   "outputs": [],
   "source": [
    "os."
   ]
  },
  {
   "cell_type": "code",
   "execution_count": 14,
   "id": "c3950dd8-0bd8-4070-ad3f-8a4704e7f1cf",
   "metadata": {},
   "outputs": [
    {
     "data": {
      "text/plain": [
       "ChatCompletion(id='chatcmpl-Bfkh8mhlAPNoFRWTfbHPXrpDFv96b', choices=[Choice(finish_reason='stop', index=0, logprobs=None, message=ChatCompletionMessage(content=\"To determine if it's too late to join a course, you'll need to consider several factors:\\n\\n1. **Enrollment Deadlines:** Check if the course has a specific enrollment deadline. Some courses allow late enrollment, sometimes with a late fee.\\n\\n2. **Course Start Date:** If the course has already started, consider how far along it is. Catching up on missed material can be challenging.\\n\\n3. **Instructor Permission:** Reach out to the course instructor or administration to see if exceptions can be made for late enrollment.\\n\\n4. **Course Format:** Online courses might offer more flexibility in start dates compared to traditional in-person classes.\\n\\n5. **Your Schedule:** Ensure you have enough time to commit to the course at this point.\\n\\n6. **Course Requirements:** Consider any prerequisites or initial work that might be difficult to catch up on if joining late.\\n\\nIf you provide the specific course details, I can offer more tailored advice.\", refusal=None, role='assistant', annotations=[], audio=None, function_call=None, tool_calls=None))], created=1749290642, model='gpt-4o-2024-08-06', object='chat.completion', service_tier='default', system_fingerprint='fp_07871e2ad8', usage=CompletionUsage(completion_tokens=184, prompt_tokens=16, total_tokens=200, completion_tokens_details=CompletionTokensDetails(accepted_prediction_tokens=0, audio_tokens=0, reasoning_tokens=0, rejected_prediction_tokens=0), prompt_tokens_details=PromptTokensDetails(audio_tokens=0, cached_tokens=0)))"
      ]
     },
     "execution_count": 14,
     "metadata": {},
     "output_type": "execute_result"
    }
   ],
   "source": [
    "client.chat.completions.create(\n",
    "    model='gpt-4o',\n",
    "    messages=[{\"role\":\"user\",\"content\":\"is it too late to join the course?\"}]\n",
    ")"
   ]
  },
  {
   "cell_type": "code",
   "execution_count": null,
   "id": "37e7e0f9-2293-4c95-ae45-eccbdb58810b",
   "metadata": {},
   "outputs": [],
   "source": [
    "print(completion.choices[0].message);"
   ]
  },
  {
   "cell_type": "code",
   "execution_count": 15,
   "id": "d5aa946a-bfb5-4173-88f4-a78f01f73d3f",
   "metadata": {},
   "outputs": [
    {
     "name": "stdout",
     "output_type": "stream",
     "text": [
      "ChatCompletionMessage(content=\"Whispers in the code,  \\nDreams woven in circuits' hum,  \\nFuture's thoughts take flight.\", refusal=None, role='assistant', annotations=[], audio=None, function_call=None, tool_calls=None)\n"
     ]
    }
   ],
   "source": [
    "from openai import OpenAI\n",
    "\n",
    "\n",
    "\n",
    "completion = client.chat.completions.create(\n",
    "  model=\"gpt-4o-mini\",\n",
    "  store=True,\n",
    "  messages=[\n",
    "    {\"role\": \"user\", \"content\": \"write a haiku about ai\"}\n",
    "  ]\n",
    ")\n",
    "\n",
    "print(completion.choices[0].message);\n"
   ]
  },
  {
   "cell_type": "code",
   "execution_count": null,
   "id": "18dfd7c0-cbb2-4e4e-90cf-ddd1677b50fe",
   "metadata": {},
   "outputs": [],
   "source": []
  }
 ],
 "metadata": {
  "kernelspec": {
   "display_name": "Python 3 (ipykernel)",
   "language": "python",
   "name": "python3"
  },
  "language_info": {
   "codemirror_mode": {
    "name": "ipython",
    "version": 3
   },
   "file_extension": ".py",
   "mimetype": "text/x-python",
   "name": "python",
   "nbconvert_exporter": "python",
   "pygments_lexer": "ipython3",
   "version": "3.12.1"
  }
 },
 "nbformat": 4,
 "nbformat_minor": 5
}
